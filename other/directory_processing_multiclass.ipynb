{
 "cells": [
  {
   "cell_type": "code",
   "execution_count": 73,
   "id": "246049da",
   "metadata": {},
   "outputs": [],
   "source": [
    "import os, random, shutil\n",
    "import numpy as np\n",
    "\n",
    "original_dir = '/Users/jmichit/Documents/Metis/projects/eye_disease/other/original_data/colored_images'\n",
    "\n",
    "#Multi-class directory - 'data-mclass'\n",
    "#Binary-class directory - 'data'\n",
    "base_dir = '/Users/jmichit/Documents/Metis/projects/eye_disease/other/data-mclass'"
   ]
  },
  {
   "cell_type": "code",
   "execution_count": 74,
   "id": "321e5d48",
   "metadata": {},
   "outputs": [],
   "source": [
    "#if directory exists, delete and re-create\n",
    "if os.path.exists(base_dir):\n",
    "    shutil.rmtree(base_dir)\n",
    "os.mkdir(base_dir)"
   ]
  },
  {
   "cell_type": "code",
   "execution_count": 75,
   "id": "bfacd9d1",
   "metadata": {},
   "outputs": [],
   "source": [
    "#create base directories\n",
    "train_dir = os.path.join(base_dir, \"train\")\n",
    "os.mkdir(train_dir)\n",
    "\n",
    "test_dir = os.path.join(base_dir, \"test\")\n",
    "os.mkdir(test_dir)\n",
    "\n",
    "val_dir = os.path.join(base_dir, \"validation\")\n",
    "os.mkdir(val_dir)"
   ]
  },
  {
   "cell_type": "code",
   "execution_count": 76,
   "id": "09ea4221",
   "metadata": {},
   "outputs": [],
   "source": [
    "#Create normal / disease directories\n",
    "train_mild_dir = os.path.join(train_dir, \"Mild\")\n",
    "os.mkdir(train_mild_dir) \n",
    "train_moderate_dir = os.path.join(train_dir, \"Moderate\")\n",
    "os.mkdir(train_moderate_dir)\n",
    "train_none_dir = os.path.join(train_dir, \"No_DR\")\n",
    "os.mkdir(train_none_dir)\n",
    "train_proliferate_dir = os.path.join(train_dir, \"Proliferate_DR\")\n",
    "os.mkdir(train_proliferate_dir)\n",
    "train_severe_dir = os.path.join(train_dir, \"Severe\")\n",
    "os.mkdir(train_severe_dir)\n",
    "\n",
    "test_mild_dir = os.path.join(test_dir, \"Mild\")\n",
    "os.mkdir(test_mild_dir) \n",
    "test_moderate_dir = os.path.join(test_dir, \"Moderate\")\n",
    "os.mkdir(test_moderate_dir)\n",
    "test_none_dir = os.path.join(test_dir, \"No_DR\")\n",
    "os.mkdir(test_none_dir)\n",
    "test_proliferate_dir = os.path.join(test_dir, \"Proliferate_DR\")\n",
    "os.mkdir(test_proliferate_dir)\n",
    "test_severe_dir = os.path.join(test_dir, \"Severe\")\n",
    "os.mkdir(test_severe_dir)\n",
    "\n",
    "val_mild_dir = os.path.join(val_dir, \"Mild\")\n",
    "os.mkdir(val_mild_dir) \n",
    "val_moderate_dir = os.path.join(val_dir, \"Moderate\")\n",
    "os.mkdir(val_moderate_dir)\n",
    "val_none_dir = os.path.join(val_dir, \"No_DR\")\n",
    "os.mkdir(val_none_dir)\n",
    "val_proliferate_dir = os.path.join(val_dir, \"Proliferate_DR\")\n",
    "os.mkdir(val_proliferate_dir)\n",
    "val_severe_dir = os.path.join(val_dir, \"Severe\")\n",
    "os.mkdir(val_severe_dir)"
   ]
  },
  {
   "cell_type": "code",
   "execution_count": 77,
   "id": "2b260906",
   "metadata": {},
   "outputs": [],
   "source": [
    "def copyfiles(label, train_d, test_d, val_d):\n",
    "\n",
    "    original_files = os.path.join(original_dir, label)\n",
    "    files = os.listdir(original_files)\n",
    "    random.shuffle(files)\n",
    "    splits=np.array_split(files,3)\n",
    "    \n",
    "    for a in splits[0]:\n",
    "        src = os.path.join(original_files, a)\n",
    "        dst = os.path.join(train_d, a)\n",
    "        shutil.copy(src, dst)\n",
    "    for a in splits[1]:\n",
    "        src = os.path.join(original_files, a)\n",
    "        dst = os.path.join(test_d, a)\n",
    "        shutil.copy(src, dst)\n",
    "    for a in splits[2]:\n",
    "        src = os.path.join(original_files, a)\n",
    "        dst = os.path.join(val_d, a)\n",
    "        shutil.copy(src, dst)"
   ]
  },
  {
   "cell_type": "code",
   "execution_count": 78,
   "id": "82bfe33f",
   "metadata": {},
   "outputs": [],
   "source": [
    "copyfiles('Mild', train_mild_dir, test_mild_dir, val_mild_dir)"
   ]
  },
  {
   "cell_type": "code",
   "execution_count": 79,
   "id": "1b290ad0",
   "metadata": {},
   "outputs": [],
   "source": [
    "copyfiles('Moderate', train_moderate_dir, test_moderate_dir, val_moderate_dir)"
   ]
  },
  {
   "cell_type": "code",
   "execution_count": 80,
   "id": "483944a3",
   "metadata": {},
   "outputs": [],
   "source": [
    "copyfiles('Proliferate_DR', train_proliferate_dir, test_proliferate_dir, val_proliferate_dir)"
   ]
  },
  {
   "cell_type": "code",
   "execution_count": 81,
   "id": "4d0db051",
   "metadata": {},
   "outputs": [],
   "source": [
    "copyfiles('Severe', train_severe_dir, test_severe_dir, val_severe_dir)"
   ]
  },
  {
   "cell_type": "code",
   "execution_count": 82,
   "id": "eff226b2",
   "metadata": {},
   "outputs": [],
   "source": [
    "copyfiles('No_DR', train_none_dir, test_none_dir, val_none_dir)"
   ]
  },
  {
   "cell_type": "code",
   "execution_count": 83,
   "id": "f15dbc40",
   "metadata": {},
   "outputs": [
    {
     "data": {
      "text/plain": [
       "'/Users/jmichit/Documents/Metis/projects/eye_disease/other'"
      ]
     },
     "execution_count": 83,
     "metadata": {},
     "output_type": "execute_result"
    }
   ],
   "source": [
    "pwd"
   ]
  },
  {
   "cell_type": "code",
   "execution_count": 84,
   "id": "db64a320",
   "metadata": {},
   "outputs": [
    {
     "name": "stdout",
     "output_type": "stream",
     "text": [
      "\u001b[34mMild\u001b[m\u001b[m/           \u001b[34mModerate\u001b[m\u001b[m/       \u001b[34mNo_DR\u001b[m\u001b[m/          \u001b[34mProliferate_DR\u001b[m\u001b[m/ \u001b[34mSevere\u001b[m\u001b[m/\n",
      "     124\n",
      "     333\n",
      "      99\n",
      "      65\n",
      "     602\n"
     ]
    }
   ],
   "source": [
    "# Confirm the structure, number of files per class\n",
    "\n",
    "#check directory structure\n",
    "!ls -F data-mclass/train\n",
    "!ls data-mclass/train/Mild | wc -l\n",
    "!ls data-mclass/train/Moderate | wc -l\n",
    "!ls data-mclass/train/Proliferate_DR | wc -l\n",
    "!ls data-mclass/train/Severe | wc -l\n",
    "!ls data-mclass/train/No_DR | wc -l"
   ]
  },
  {
   "cell_type": "code",
   "execution_count": 85,
   "id": "d5094e4f",
   "metadata": {},
   "outputs": [
    {
     "name": "stdout",
     "output_type": "stream",
     "text": [
      "\u001b[34mMild\u001b[m\u001b[m/           \u001b[34mModerate\u001b[m\u001b[m/       \u001b[34mNo_DR\u001b[m\u001b[m/          \u001b[34mProliferate_DR\u001b[m\u001b[m/ \u001b[34mSevere\u001b[m\u001b[m/\n",
      "     123\n",
      "     333\n",
      "      98\n",
      "      64\n",
      "     602\n"
     ]
    }
   ],
   "source": [
    "# Confirm the structure, number of files per class\n",
    "\n",
    "#check directory structure\n",
    "!ls -F data-mclass/test\n",
    "!ls data-mclass/test/Mild | wc -l\n",
    "!ls data-mclass/test/Moderate | wc -l\n",
    "!ls data-mclass/test/Proliferate_DR | wc -l\n",
    "!ls data-mclass/test/Severe | wc -l\n",
    "!ls data-mclass/test/No_DR | wc -l"
   ]
  },
  {
   "cell_type": "code",
   "execution_count": 86,
   "id": "9c7890e6",
   "metadata": {},
   "outputs": [
    {
     "name": "stdout",
     "output_type": "stream",
     "text": [
      "\u001b[34mMild\u001b[m\u001b[m/           \u001b[34mModerate\u001b[m\u001b[m/       \u001b[34mNo_DR\u001b[m\u001b[m/          \u001b[34mProliferate_DR\u001b[m\u001b[m/ \u001b[34mSevere\u001b[m\u001b[m/\n",
      "     123\n",
      "     333\n",
      "      98\n",
      "      64\n",
      "     601\n"
     ]
    }
   ],
   "source": [
    "# Confirm the structure, number of files per class\n",
    "\n",
    "#check directory structure\n",
    "!ls -F data-mclass/validation\n",
    "!ls data-mclass/validation/Mild | wc -l\n",
    "!ls data-mclass/validation/Moderate | wc -l\n",
    "!ls data-mclass/validation/Proliferate_DR | wc -l\n",
    "!ls data-mclass/validation/Severe | wc -l\n",
    "!ls data-mclass/validation/No_DR | wc -l"
   ]
  }
 ],
 "metadata": {
  "kernelspec": {
   "display_name": "Python [conda env:metis] *",
   "language": "python",
   "name": "conda-env-metis-py"
  },
  "language_info": {
   "codemirror_mode": {
    "name": "ipython",
    "version": 3
   },
   "file_extension": ".py",
   "mimetype": "text/x-python",
   "name": "python",
   "nbconvert_exporter": "python",
   "pygments_lexer": "ipython3",
   "version": "3.8.10"
  }
 },
 "nbformat": 4,
 "nbformat_minor": 5
}
