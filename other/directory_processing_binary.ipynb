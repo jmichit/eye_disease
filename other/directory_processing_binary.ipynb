{
 "cells": [
  {
   "cell_type": "code",
   "execution_count": 1,
   "id": "246049da",
   "metadata": {},
   "outputs": [],
   "source": [
    "import os, random, shutil\n",
    "import numpy as np\n",
    "\n",
    "original_dir = '/Users/jmichit/Documents/Metis/projects/eye_disease/other/original_data/colored_images'\n",
    "\n",
    "#Multi-class directory - 'data-mclass'\n",
    "#Binary-class directory - 'data'\n",
    "base_dir = '/Users/jmichit/Documents/Metis/projects/eye_disease/other/data'"
   ]
  },
  {
   "cell_type": "code",
   "execution_count": 2,
   "id": "321e5d48",
   "metadata": {},
   "outputs": [],
   "source": [
    "#if directory exists, delete and re-create\n",
    "if os.path.exists(base_dir):\n",
    "    shutil.rmtree(base_dir)\n",
    "os.mkdir(base_dir)"
   ]
  },
  {
   "cell_type": "code",
   "execution_count": 3,
   "id": "bfacd9d1",
   "metadata": {},
   "outputs": [],
   "source": [
    "#create base directories\n",
    "train_dir = os.path.join(base_dir, \"train\")\n",
    "os.mkdir(train_dir)\n",
    "\n",
    "test_dir = os.path.join(base_dir, \"test\")\n",
    "os.mkdir(test_dir)\n",
    "\n",
    "val_dir = os.path.join(base_dir, \"validation\")\n",
    "os.mkdir(val_dir)"
   ]
  },
  {
   "cell_type": "code",
   "execution_count": 4,
   "id": "09ea4221",
   "metadata": {},
   "outputs": [],
   "source": [
    "#Create normal / disease directories\n",
    "train_normal_dir = os.path.join(train_dir, \"Normal\")\n",
    "os.mkdir(train_normal_dir)\n",
    "train_disease_dir = os.path.join(train_dir, \"Disease\")\n",
    "os.mkdir(train_disease_dir)\n",
    "\n",
    "test_normal_dir = os.path.join(test_dir, \"Normal\")\n",
    "os.mkdir(test_normal_dir)\n",
    "test_disease_dir = os.path.join(test_dir, \"Disease\")\n",
    "os.mkdir(test_disease_dir)\n",
    "\n",
    "val_normal_dir = os.path.join(val_dir, \"Normal\")\n",
    "os.mkdir(val_normal_dir)\n",
    "val_disease_dir = os.path.join(val_dir, \"Disease\")\n",
    "os.mkdir(val_disease_dir)\n"
   ]
  },
  {
   "cell_type": "code",
   "execution_count": 5,
   "id": "2b260906",
   "metadata": {},
   "outputs": [],
   "source": [
    "def copyfiles(label, train_d, test_d, val_d):\n",
    "\n",
    "    original_files = os.path.join(original_dir, label)\n",
    "    files = os.listdir(original_files)\n",
    "    random.shuffle(files)\n",
    "    splits=np.array_split(files,3)\n",
    "    \n",
    "    for a in splits[0]:\n",
    "        src = os.path.join(original_files, a)\n",
    "        dst = os.path.join(train_d, a)\n",
    "        shutil.copy(src, dst)\n",
    "    for a in splits[1]:\n",
    "        src = os.path.join(original_files, a)\n",
    "        dst = os.path.join(test_d, a)\n",
    "        shutil.copy(src, dst)\n",
    "    for a in splits[2]:\n",
    "        src = os.path.join(original_files, a)\n",
    "        dst = os.path.join(val_d, a)\n",
    "        shutil.copy(src, dst)"
   ]
  },
  {
   "cell_type": "code",
   "execution_count": 6,
   "id": "82bfe33f",
   "metadata": {},
   "outputs": [],
   "source": [
    "copyfiles('Mild', train_disease_dir, test_disease_dir, val_disease_dir)"
   ]
  },
  {
   "cell_type": "code",
   "execution_count": 7,
   "id": "1b290ad0",
   "metadata": {},
   "outputs": [],
   "source": [
    "copyfiles('Moderate', train_disease_dir, test_disease_dir, val_disease_dir)"
   ]
  },
  {
   "cell_type": "code",
   "execution_count": 8,
   "id": "483944a3",
   "metadata": {},
   "outputs": [],
   "source": [
    "copyfiles('Proliferate_DR', train_disease_dir, test_disease_dir, val_disease_dir)"
   ]
  },
  {
   "cell_type": "code",
   "execution_count": 9,
   "id": "4d0db051",
   "metadata": {},
   "outputs": [],
   "source": [
    "copyfiles('Severe', train_disease_dir, test_disease_dir, val_disease_dir)"
   ]
  },
  {
   "cell_type": "code",
   "execution_count": 10,
   "id": "eff226b2",
   "metadata": {},
   "outputs": [],
   "source": [
    "copyfiles('No_DR', train_normal_dir, test_normal_dir, val_normal_dir)"
   ]
  },
  {
   "cell_type": "code",
   "execution_count": 11,
   "id": "f15dbc40",
   "metadata": {},
   "outputs": [
    {
     "data": {
      "text/plain": [
       "'/Users/jmichit/Documents/Metis/projects/eye_disease/other'"
      ]
     },
     "execution_count": 11,
     "metadata": {},
     "output_type": "execute_result"
    }
   ],
   "source": [
    "pwd"
   ]
  },
  {
   "cell_type": "code",
   "execution_count": 12,
   "id": "db64a320",
   "metadata": {},
   "outputs": [
    {
     "name": "stdout",
     "output_type": "stream",
     "text": [
      "\u001b[34mDisease\u001b[m\u001b[m/ \u001b[34mNormal\u001b[m\u001b[m/\n",
      "     602\n",
      "     621\n"
     ]
    }
   ],
   "source": [
    "# Confirm the structure, number of files per class\n",
    "\n",
    "#check directory structure\n",
    "!ls -F data/train\n",
    "!ls data/train/Normal | wc -l\n",
    "!ls data/train/Disease | wc -l"
   ]
  },
  {
   "cell_type": "code",
   "execution_count": 13,
   "id": "2b1220f0",
   "metadata": {},
   "outputs": [
    {
     "name": "stdout",
     "output_type": "stream",
     "text": [
      "\u001b[34mDisease\u001b[m\u001b[m/ \u001b[34mNormal\u001b[m\u001b[m/\n",
      "     602\n",
      "     618\n"
     ]
    }
   ],
   "source": [
    "# Confirm the structure, number of files per class\n",
    "\n",
    "#check directory structure\n",
    "!ls -F data/test\n",
    "!ls data/test/Normal | wc -l\n",
    "!ls data/test/Disease | wc -l"
   ]
  },
  {
   "cell_type": "code",
   "execution_count": 14,
   "id": "db64a320",
   "metadata": {},
   "outputs": [
    {
     "name": "stdout",
     "output_type": "stream",
     "text": [
      "\u001b[34mDisease\u001b[m\u001b[m/ \u001b[34mNormal\u001b[m\u001b[m/\n",
      "     601\n",
      "     618\n"
     ]
    }
   ],
   "source": [
    "# Confirm the structure, number of files per class\n",
    "\n",
    "#check directory structure\n",
    "!ls -F data/validation\n",
    "!ls data/validation/Normal | wc -l\n",
    "!ls data/validation/Disease | wc -l"
   ]
  },
  {
   "cell_type": "code",
   "execution_count": null,
   "id": "a55491ea",
   "metadata": {},
   "outputs": [],
   "source": []
  }
 ],
 "metadata": {
  "kernelspec": {
   "display_name": "Python [conda env:metis] *",
   "language": "python",
   "name": "conda-env-metis-py"
  },
  "language_info": {
   "codemirror_mode": {
    "name": "ipython",
    "version": 3
   },
   "file_extension": ".py",
   "mimetype": "text/x-python",
   "name": "python",
   "nbconvert_exporter": "python",
   "pygments_lexer": "ipython3",
   "version": "3.8.10"
  }
 },
 "nbformat": 4,
 "nbformat_minor": 5
}
